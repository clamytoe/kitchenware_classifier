{
 "cells": [
  {
   "attachments": {},
   "cell_type": "markdown",
   "id": "44132468",
   "metadata": {},
   "source": [
    "# Kitchenware Classifier Using KFold Cross Validation"
   ]
  },
  {
   "cell_type": "code",
   "execution_count": 1,
   "id": "2b0010a5",
   "metadata": {},
   "outputs": [
    {
     "name": "stdout",
     "output_type": "stream",
     "text": [
      "['sample_submission.csv', 'test.csv', 'models', 'train.csv', 'images', 'extra.csv']\n",
      "Python       : 3.9.15 | packaged by conda-forge | (main, Nov 22 2022, 15:55:03) \n",
      "FastAI       : 2.7.10\n",
      "Numpy        : 1.22.4\n",
      "Torch        : 1.13.1+cu117\n",
      "CUDA         : True\n"
     ]
    }
   ],
   "source": [
    "import gc\n",
    "import os\n",
    "import sys\n",
    "\n",
    "from collections import defaultdict\n",
    "from hashlib import md5\n",
    "\n",
    "import numpy as np\n",
    "import PIL\n",
    "import seaborn as sns\n",
    "import fastai\n",
    "import torch\n",
    "\n",
    "from fastai.vision.all import (\n",
    "    set_seed,\n",
    "    Path,\n",
    "    pd,\n",
    "    plt,\n",
    "    aug_transforms,\n",
    "    ImageDataLoaders,\n",
    "    vision_learner,\n",
    "    error_rate,\n",
    "    accuracy,\n",
    "    Resize,\n",
    "    minimum,\n",
    "    steep,\n",
    "    valley,\n",
    "    slide,\n",
    "    SaveModelCallback,\n",
    "    EarlyStoppingCallback,\n",
    "    Interpretation,\n",
    "    Learner,\n",
    "    MixUp,\n",
    "    cnn_learner,\n",
    "    partial,\n",
    "    DataBlock,\n",
    "    ImageBlock,\n",
    "    MultiCategoryBlock,\n",
    "    ColReader,\n",
    "    IndexSplitter,\n",
    "    FlipItem,\n",
    "    RandomErasing,\n",
    "    Normalize,\n",
    ")\n",
    "from iterstrat.ml_stratifiers import MultilabelStratifiedKFold\n",
    "from torch import device\n",
    "\n",
    "# import timm\n",
    "\n",
    "print(os.listdir(\"../kitchenware_classifier/data/\"))\n",
    "print(\"Python       :\", sys.version.split(\"\\n\")[0])\n",
    "print(\"FastAI       :\", fastai.__version__)\n",
    "print(\"Numpy        :\", np.__version__)\n",
    "print(\"Torch        :\", torch.__version__)\n",
    "print(\"CUDA         :\", torch.cuda.is_available())\n",
    "\n",
    "%matplotlib inline"
   ]
  },
  {
   "cell_type": "markdown",
   "id": "76772191",
   "metadata": {},
   "source": [
    "## Load data and set variables"
   ]
  },
  {
   "cell_type": "code",
   "execution_count": 2,
   "id": "7e3b1daa",
   "metadata": {},
   "outputs": [],
   "source": [
    "SEED = 42\n",
    "set_seed(42)\n",
    "BATCH_SIZE = 8\n",
    "IMG_SIZE = 224\n",
    "\n",
    "PROJECT_DIR = Path(\"../kitchenware_classifier\")\n",
    "DATA_DIR = PROJECT_DIR / \"data\"\n",
    "IMG_DIR = DATA_DIR / \"images\"\n",
    "\n",
    "TRAIN_DF = pd.read_csv(DATA_DIR / \"train.csv\")\n",
    "TEST_DF = pd.read_csv(DATA_DIR / \"test.csv\")\n",
    "EXTRA_DF = pd.read_csv(DATA_DIR / \"extra.csv\")\n",
    "TRAIN_DF = pd.concat([TRAIN_DF, EXTRA_DF], ignore_index=True)\n",
    "\n",
    "TRAIN_DF.rename(columns={\"Id\": \"image\"}, inplace=True)\n",
    "TRAIN_DF[\"Id\"] = TRAIN_DF.loc[:, \"image\"]\n",
    "\n",
    "TEST_DF.rename(columns={\"Id\": \"image\"}, inplace=True)\n",
    "TEST_DF[\"Id\"] = TEST_DF.loc[:, \"image\"]\n",
    "\n",
    "TRAIN_DF[\"image\"] = TRAIN_DF[\"Id\"].map(lambda x: f\"{IMG_DIR.absolute()}/{x:0>4}.jpg\")\n",
    "TEST_DF[\"image\"] = TEST_DF[\"Id\"].map(lambda x: f\"{IMG_DIR}/{x:0>4}.jpg\")"
   ]
  },
  {
   "cell_type": "code",
   "execution_count": 3,
   "id": "ecdea5e7",
   "metadata": {},
   "outputs": [
    {
     "data": {
      "text/html": [
       "<div>\n",
       "<style scoped>\n",
       "    .dataframe tbody tr th:only-of-type {\n",
       "        vertical-align: middle;\n",
       "    }\n",
       "\n",
       "    .dataframe tbody tr th {\n",
       "        vertical-align: top;\n",
       "    }\n",
       "\n",
       "    .dataframe thead th {\n",
       "        text-align: right;\n",
       "    }\n",
       "</style>\n",
       "<table border=\"1\" class=\"dataframe\">\n",
       "  <thead>\n",
       "    <tr style=\"text-align: right;\">\n",
       "      <th></th>\n",
       "      <th>image</th>\n",
       "      <th>label</th>\n",
       "      <th>Id</th>\n",
       "    </tr>\n",
       "  </thead>\n",
       "  <tbody>\n",
       "    <tr>\n",
       "      <th>0</th>\n",
       "      <td>/home/clamytoe/Projects/kitchenware_classifier/notebooks/../kitchenware_classifier/data/images/0560.jpg</td>\n",
       "      <td>glass</td>\n",
       "      <td>560</td>\n",
       "    </tr>\n",
       "    <tr>\n",
       "      <th>1</th>\n",
       "      <td>/home/clamytoe/Projects/kitchenware_classifier/notebooks/../kitchenware_classifier/data/images/4675.jpg</td>\n",
       "      <td>cup</td>\n",
       "      <td>4675</td>\n",
       "    </tr>\n",
       "    <tr>\n",
       "      <th>2</th>\n",
       "      <td>/home/clamytoe/Projects/kitchenware_classifier/notebooks/../kitchenware_classifier/data/images/0875.jpg</td>\n",
       "      <td>glass</td>\n",
       "      <td>875</td>\n",
       "    </tr>\n",
       "    <tr>\n",
       "      <th>3</th>\n",
       "      <td>/home/clamytoe/Projects/kitchenware_classifier/notebooks/../kitchenware_classifier/data/images/4436.jpg</td>\n",
       "      <td>spoon</td>\n",
       "      <td>4436</td>\n",
       "    </tr>\n",
       "    <tr>\n",
       "      <th>4</th>\n",
       "      <td>/home/clamytoe/Projects/kitchenware_classifier/notebooks/../kitchenware_classifier/data/images/8265.jpg</td>\n",
       "      <td>plate</td>\n",
       "      <td>8265</td>\n",
       "    </tr>\n",
       "  </tbody>\n",
       "</table>\n",
       "</div>"
      ],
      "text/plain": [
       "                                                                                                     image  \\\n",
       "0  /home/clamytoe/Projects/kitchenware_classifier/notebooks/../kitchenware_classifier/data/images/0560.jpg   \n",
       "1  /home/clamytoe/Projects/kitchenware_classifier/notebooks/../kitchenware_classifier/data/images/4675.jpg   \n",
       "2  /home/clamytoe/Projects/kitchenware_classifier/notebooks/../kitchenware_classifier/data/images/0875.jpg   \n",
       "3  /home/clamytoe/Projects/kitchenware_classifier/notebooks/../kitchenware_classifier/data/images/4436.jpg   \n",
       "4  /home/clamytoe/Projects/kitchenware_classifier/notebooks/../kitchenware_classifier/data/images/8265.jpg   \n",
       "\n",
       "   label    Id  \n",
       "0  glass   560  \n",
       "1    cup  4675  \n",
       "2  glass   875  \n",
       "3  spoon  4436  \n",
       "4  plate  8265  "
      ]
     },
     "metadata": {},
     "output_type": "display_data"
    },
    {
     "data": {
      "text/html": [
       "<div>\n",
       "<style scoped>\n",
       "    .dataframe tbody tr th:only-of-type {\n",
       "        vertical-align: middle;\n",
       "    }\n",
       "\n",
       "    .dataframe tbody tr th {\n",
       "        vertical-align: top;\n",
       "    }\n",
       "\n",
       "    .dataframe thead th {\n",
       "        text-align: right;\n",
       "    }\n",
       "</style>\n",
       "<table border=\"1\" class=\"dataframe\">\n",
       "  <thead>\n",
       "    <tr style=\"text-align: right;\">\n",
       "      <th></th>\n",
       "      <th>image</th>\n",
       "      <th>Id</th>\n",
       "    </tr>\n",
       "  </thead>\n",
       "  <tbody>\n",
       "    <tr>\n",
       "      <th>0</th>\n",
       "      <td>../kitchenware_classifier/data/images/0678.jpg</td>\n",
       "      <td>678</td>\n",
       "    </tr>\n",
       "    <tr>\n",
       "      <th>1</th>\n",
       "      <td>../kitchenware_classifier/data/images/3962.jpg</td>\n",
       "      <td>3962</td>\n",
       "    </tr>\n",
       "    <tr>\n",
       "      <th>2</th>\n",
       "      <td>../kitchenware_classifier/data/images/9271.jpg</td>\n",
       "      <td>9271</td>\n",
       "    </tr>\n",
       "    <tr>\n",
       "      <th>3</th>\n",
       "      <td>../kitchenware_classifier/data/images/5133.jpg</td>\n",
       "      <td>5133</td>\n",
       "    </tr>\n",
       "    <tr>\n",
       "      <th>4</th>\n",
       "      <td>../kitchenware_classifier/data/images/8842.jpg</td>\n",
       "      <td>8842</td>\n",
       "    </tr>\n",
       "  </tbody>\n",
       "</table>\n",
       "</div>"
      ],
      "text/plain": [
       "                                            image    Id\n",
       "0  ../kitchenware_classifier/data/images/0678.jpg   678\n",
       "1  ../kitchenware_classifier/data/images/3962.jpg  3962\n",
       "2  ../kitchenware_classifier/data/images/9271.jpg  9271\n",
       "3  ../kitchenware_classifier/data/images/5133.jpg  5133\n",
       "4  ../kitchenware_classifier/data/images/8842.jpg  8842"
      ]
     },
     "metadata": {},
     "output_type": "display_data"
    }
   ],
   "source": [
    "display(TRAIN_DF.head())\n",
    "display(TEST_DF.head())"
   ]
  },
  {
   "cell_type": "markdown",
   "id": "2d902804",
   "metadata": {},
   "source": [
    "## EDA"
   ]
  },
  {
   "cell_type": "code",
   "execution_count": 4,
   "id": "86bc0980",
   "metadata": {},
   "outputs": [
    {
     "name": "stdout",
     "output_type": "stream",
     "text": [
      "<class 'pandas.core.frame.DataFrame'>\n",
      "RangeIndex: 6875 entries, 0 to 6874\n",
      "Data columns (total 3 columns):\n",
      " #   Column  Non-Null Count  Dtype \n",
      "---  ------  --------------  ----- \n",
      " 0   image   6875 non-null   object\n",
      " 1   label   6875 non-null   object\n",
      " 2   Id      6875 non-null   object\n",
      "dtypes: object(3)\n",
      "memory usage: 161.3+ KB\n"
     ]
    }
   ],
   "source": [
    "TRAIN_DF.info()"
   ]
  },
  {
   "cell_type": "markdown",
   "id": "b77febf2",
   "metadata": {},
   "source": [
    "### Check the class distributions"
   ]
  },
  {
   "cell_type": "code",
   "execution_count": 5,
   "id": "e95858bd",
   "metadata": {},
   "outputs": [
    {
     "data": {
      "image/png": "[encoded data removed]",
      "text/plain": [
       "<Figure size 640x480 with 1 Axes>"
      ]
     },
     "metadata": {},
     "output_type": "display_data"
    }
   ],
   "source": [
    "sns.countplot(data=TRAIN_DF, x=\"label\")\n",
    "plt.show()"
   ]
  },
  {
   "cell_type": "markdown",
   "id": "f9fd4741",
   "metadata": {},
   "source": [
    "### Check for duplicate images"
   ]
  },
  {
   "cell_type": "code",
   "execution_count": 6,
   "id": "90213828",
   "metadata": {},
   "outputs": [
    {
     "data": {
      "text/plain": [
       "10677"
      ]
     },
     "execution_count": 6,
     "metadata": {},
     "output_type": "execute_result"
    }
   ],
   "source": [
    "hash_dict = defaultdict(list)\n",
    "for image in IMG_DIR.glob(\"*.jpg\"):\n",
    "    with image.open(\"rb\") as f:\n",
    "        img_hash = md5(f.read()).hexdigest()\n",
    "        hash_dict[img_hash].append(image)\n",
    "len(hash_dict)"
   ]
  },
  {
   "cell_type": "code",
   "execution_count": 7,
   "id": "452ea9fe",
   "metadata": {},
   "outputs": [
    {
     "name": "stdout",
     "output_type": "stream",
     "text": [
      "[Path('../kitchenware_classifier/data/images/7103.jpg'), Path('../kitchenware_classifier/data/images/5428.jpg')]\n",
      "[Path('../kitchenware_classifier/data/images/4234.jpg'), Path('../kitchenware_classifier/data/images/0237.jpg')]\n",
      "[Path('../kitchenware_classifier/data/images/4162.jpg'), Path('../kitchenware_classifier/data/images/3458.jpg')]\n",
      "[Path('../kitchenware_classifier/data/images/8532.jpg'), Path('../kitchenware_classifier/data/images/6833.jpg')]\n",
      "[Path('../kitchenware_classifier/data/images/7196.jpg'), Path('../kitchenware_classifier/data/images/7063.jpg')]\n",
      "[Path('../kitchenware_classifier/data/images/6624.jpg'), Path('../kitchenware_classifier/data/images/7469.jpg')]\n"
     ]
    },
    {
     "data": {
      "text/plain": [
       "12"
      ]
     },
     "execution_count": 7,
     "metadata": {},
     "output_type": "execute_result"
    }
   ],
   "source": [
    "duplicate_img = []\n",
    "for k, v in hash_dict.items():\n",
    "    if len(v) > 1:\n",
    "        if v[0].name != v[1].name:\n",
    "            duplicate_img.append(v[0])\n",
    "            duplicate_img.append(v[1])\n",
    "            print(v)\n",
    "len(duplicate_img)"
   ]
  },
  {
   "cell_type": "code",
   "execution_count": 8,
   "id": "c7827d6e",
   "metadata": {},
   "outputs": [
    {
     "data": {
      "image/png": "[encoded data removed]",
      "text/plain": [
       "<Figure size 1200x800 with 12 Axes>"
      ]
     },
     "metadata": {},
     "output_type": "display_data"
    }
   ],
   "source": [
    "plt.figure(figsize=(12, 8))\n",
    "\n",
    "for idx, img in enumerate(duplicate_img):\n",
    "    im = PIL.Image.open(img)\n",
    "    title = img.stem\n",
    "    plt.subplot(6, 2, idx + 1)\n",
    "    plt.imshow(im)\n",
    "    plt.title(title)\n",
    "    plt.axis(\"off\")\n",
    "plt.tight_layout()\n",
    "plt.show()"
   ]
  },
  {
   "cell_type": "code",
   "execution_count": 9,
   "id": "4968f44e",
   "metadata": {},
   "outputs": [
    {
     "data": {
      "text/plain": [
       "0.00112391121101433"
      ]
     },
     "execution_count": 9,
     "metadata": {},
     "output_type": "execute_result"
    }
   ],
   "source": [
    "(len(duplicate_img) / len(hash_dict))"
   ]
  },
  {
   "cell_type": "markdown",
   "id": "f2f9f1c7",
   "metadata": {},
   "source": [
    "> Since the amount of duplicate images are so insignificant, I'm not going to worry about them."
   ]
  },
  {
   "attachments": {},
   "cell_type": "markdown",
   "id": "ddb9f571",
   "metadata": {},
   "source": [
    "## KFold validation\n",
    "\n",
    "I modified the code from this great article that I found on the subject: [fastai MultiLabel Classification using Kfold Cross Validation](https://medium.com/analytics-vidhya/fastai-multilabel-classification-using-kfold-cross-validation-706b5948e138)"
   ]
  },
  {
   "cell_type": "code",
   "execution_count": 10,
   "id": "9341ced8",
   "metadata": {},
   "outputs": [],
   "source": [
    "strat_kfold = MultilabelStratifiedKFold(n_splits=3, random_state=42, shuffle=True)\n",
    "stfold = strat_kfold.split(TRAIN_DF.image.values, TRAIN_DF.iloc[:, 1:].values)\n",
    "TRAIN_DF[\"fold\"] = -1\n",
    "for i, (_, test_index) in enumerate(stfold):\n",
    "    TRAIN_DF.iloc[test_index, -1] = i"
   ]
  },
  {
   "cell_type": "code",
   "execution_count": 11,
   "id": "8fced7b7",
   "metadata": {},
   "outputs": [
    {
     "data": {
      "image/png": "[encoded data removed]",
      "text/plain": [
       "<Figure size 640x480 with 1 Axes>"
      ]
     },
     "metadata": {},
     "output_type": "display_data"
    }
   ],
   "source": [
    "TRAIN_DF.fold.value_counts().plot.bar();"
   ]
  },
  {
   "attachments": {},
   "cell_type": "markdown",
   "id": "f6224445",
   "metadata": {},
   "source": [
    "## Metrics"
   ]
  },
  {
   "cell_type": "code",
   "execution_count": 12,
   "id": "5837e937",
   "metadata": {},
   "outputs": [],
   "source": [
    "def accuracy_multi(inp, targ, thresh=0.5, sigmoid=True):\n",
    "    \"Compute accuracy when `inp` and `targ` are the same size.\"\n",
    "    if sigmoid:\n",
    "        inp = inp.sigmoid()\n",
    "    return ((inp > thresh) == targ.bool()).float().mean()"
   ]
  },
  {
   "cell_type": "code",
   "execution_count": 13,
   "id": "407485ec",
   "metadata": {},
   "outputs": [],
   "source": [
    "def F_score(output, label, threshold=0.2, beta=1):\n",
    "    prob = output > threshold\n",
    "    label = label > threshold\n",
    "\n",
    "    TP = (prob & label).sum(1).float()\n",
    "    TN = ((~prob) & (~label)).sum(1).float()\n",
    "    FP = (prob & (~label)).sum(1).float()\n",
    "    FN = ((~prob) & label).sum(1).float()\n",
    "\n",
    "    precision = torch.mean(TP / (TP + FP + 1e-12))\n",
    "    recall = torch.mean(TP / (TP + FN + 1e-12))\n",
    "    F2 = (1 + beta**2) * precision * recall / (beta**2 * precision + recall + 1e-12)\n",
    "\n",
    "    return F2.mean(0)"
   ]
  },
  {
   "cell_type": "code",
   "execution_count": 14,
   "id": "e543cfef",
   "metadata": {},
   "outputs": [],
   "source": [
    "mixup = MixUp(0.3)"
   ]
  },
  {
   "attachments": {},
   "cell_type": "markdown",
   "id": "cb6682d3",
   "metadata": {},
   "source": [
    "The original code from the article was causing my system to run out of memory, so I had to play around with the values in order to get it to run all of th way through. In the end, I eded up reducing the bactch sizes by quite a bit."
   ]
  },
  {
   "cell_type": "code",
   "execution_count": 15,
   "id": "26550c45",
   "metadata": {},
   "outputs": [],
   "source": [
    "def get_data(fold=0, size=224, bs=16):\n",
    "    blocks = (ImageBlock, MultiCategoryBlock)\n",
    "    idx_splitter = IndexSplitter(TRAIN_DF[TRAIN_DF.fold == fold].index)\n",
    "    xtrans = aug_transforms(\n",
    "        size=size,\n",
    "        do_flip=True,\n",
    "        flip_vert=True,\n",
    "        max_rotate=180.0,\n",
    "        max_zoom=1.1,\n",
    "        max_lighting=0.6,\n",
    "        max_warp=0.2,\n",
    "        p_affine=0.75,\n",
    "        p_lighting=0.75,\n",
    "        xtra_tfms=[\n",
    "            RandomErasing(p=0.5, sh=0.1, min_aspect=0.2, max_count=2),\n",
    "        ],\n",
    "    )\n",
    "    db = DataBlock(\n",
    "        blocks=blocks,\n",
    "        get_x=ColReader(0),                   # image paths\n",
    "        get_y=ColReader(1, label_delim=\" \"),  # label\n",
    "        splitter=idx_splitter,\n",
    "        item_tfms=[FlipItem(p=0.5), Resize(512, method=\"pad\")],\n",
    "        batch_tfms=[*xtrans, Normalize],\n",
    "    )\n",
    "\n",
    "    return db.dataloaders(TRAIN_DF, bs=bs)"
   ]
  },
  {
   "attachments": {},
   "cell_type": "markdown",
   "id": "bb7ccde5",
   "metadata": {},
   "source": [
    "> **NOTE:** The `label_delim` is very important here. Originally I had removed it because it seemed like a way to split a string of texts into seperate classes, which is what it's used for. But without it. the actualy name of your class is split into individual letters! Not what I wanted!"
   ]
  },
  {
   "attachments": {},
   "cell_type": "markdown",
   "id": "1759477c",
   "metadata": {},
   "source": [
    "The article wasn't saving the best model, so I decided to add that here, so that at then end, the best model would be loaded and used for the final predictions. \n",
    "\n",
    "I also decided to optimize the learning rate and it allowed me to improve my score on Kaggle to **0.97777**!"
   ]
  },
  {
   "cell_type": "code",
   "execution_count": 16,
   "id": "c8e4d164",
   "metadata": {},
   "outputs": [
    {
     "data": {
      "text/html": [
       "\n",
       "<style>\n",
       "    /* Turns off some styling */\n",
       "    progress {\n",
       "        /* gets rid of default border in Firefox and Opera. */\n",
       "        border: none;\n",
       "        /* Needs to be in here for Safari polyfill so background images work as expected. */\n",
       "        background-size: auto;\n",
       "    }\n",
       "    progress:not([value]), progress:not([value])::-webkit-progress-bar {\n",
       "        background: repeating-linear-gradient(45deg, #7e7e7e, #7e7e7e 10px, #5c5c5c 10px, #5c5c5c 20px);\n",
       "    }\n",
       "    .progress-bar-interrupted, .progress-bar-interrupted::-webkit-progress-bar {\n",
       "        background: #F44336;\n",
       "    }\n",
       "</style>\n"
      ],
      "text/plain": [
       "<IPython.core.display.HTML object>"
      ]
     },
     "metadata": {},
     "output_type": "display_data"
    },
    {
     "data": {
      "text/html": [
       "<table border=\"1\" class=\"dataframe\">\n",
       "  <thead>\n",
       "    <tr style=\"text-align: left;\">\n",
       "      <th>epoch</th>\n",
       "      <th>train_loss</th>\n",
       "      <th>valid_loss</th>\n",
       "      <th>accuracy_multi</th>\n",
       "      <th>F_score</th>\n",
       "      <th>time</th>\n",
       "    </tr>\n",
       "  </thead>\n",
       "  <tbody>\n",
       "    <tr>\n",
       "      <td>0</td>\n",
       "      <td>0.742832</td>\n",
       "      <td>0.332222</td>\n",
       "      <td>0.567699</td>\n",
       "      <td>0.850564</td>\n",
       "      <td>00:47</td>\n",
       "    </tr>\n",
       "    <tr>\n",
       "      <td>1</td>\n",
       "      <td>0.448280</td>\n",
       "      <td>0.140894</td>\n",
       "      <td>0.899287</td>\n",
       "      <td>0.932870</td>\n",
       "      <td>00:48</td>\n",
       "    </tr>\n",
       "    <tr>\n",
       "      <td>2</td>\n",
       "      <td>0.262894</td>\n",
       "      <td>0.064578</td>\n",
       "      <td>0.978985</td>\n",
       "      <td>0.918298</td>\n",
       "      <td>00:49</td>\n",
       "    </tr>\n",
       "    <tr>\n",
       "      <td>3</td>\n",
       "      <td>0.211160</td>\n",
       "      <td>0.055536</td>\n",
       "      <td>0.977822</td>\n",
       "      <td>0.929846</td>\n",
       "      <td>00:49</td>\n",
       "    </tr>\n",
       "    <tr>\n",
       "      <td>4</td>\n",
       "      <td>0.200247</td>\n",
       "      <td>0.050648</td>\n",
       "      <td>0.982330</td>\n",
       "      <td>0.927354</td>\n",
       "      <td>00:49</td>\n",
       "    </tr>\n",
       "    <tr>\n",
       "      <td>5</td>\n",
       "      <td>0.191389</td>\n",
       "      <td>0.049232</td>\n",
       "      <td>0.980803</td>\n",
       "      <td>0.937275</td>\n",
       "      <td>00:49</td>\n",
       "    </tr>\n",
       "    <tr>\n",
       "      <td>6</td>\n",
       "      <td>0.175267</td>\n",
       "      <td>0.045705</td>\n",
       "      <td>0.981239</td>\n",
       "      <td>0.947857</td>\n",
       "      <td>00:49</td>\n",
       "    </tr>\n",
       "    <tr>\n",
       "      <td>7</td>\n",
       "      <td>0.179084</td>\n",
       "      <td>0.046314</td>\n",
       "      <td>0.982257</td>\n",
       "      <td>0.943277</td>\n",
       "      <td>00:49</td>\n",
       "    </tr>\n",
       "  </tbody>\n",
       "</table>"
      ],
      "text/plain": [
       "<IPython.core.display.HTML object>"
      ]
     },
     "metadata": {},
     "output_type": "display_data"
    },
    {
     "name": "stdout",
     "output_type": "stream",
     "text": [
      "No improvement since epoch 6: early stopping\n"
     ]
    },
    {
     "data": {
      "text/html": [
       "\n",
       "<style>\n",
       "    /* Turns off some styling */\n",
       "    progress {\n",
       "        /* gets rid of default border in Firefox and Opera. */\n",
       "        border: none;\n",
       "        /* Needs to be in here for Safari polyfill so background images work as expected. */\n",
       "        background-size: auto;\n",
       "    }\n",
       "    progress:not([value]), progress:not([value])::-webkit-progress-bar {\n",
       "        background: repeating-linear-gradient(45deg, #7e7e7e, #7e7e7e 10px, #5c5c5c 10px, #5c5c5c 20px);\n",
       "    }\n",
       "    .progress-bar-interrupted, .progress-bar-interrupted::-webkit-progress-bar {\n",
       "        background: #F44336;\n",
       "    }\n",
       "</style>\n"
      ],
      "text/plain": [
       "<IPython.core.display.HTML object>"
      ]
     },
     "metadata": {},
     "output_type": "display_data"
    },
    {
     "data": {
      "text/html": [],
      "text/plain": [
       "<IPython.core.display.HTML object>"
      ]
     },
     "metadata": {},
     "output_type": "display_data"
    },
    {
     "name": "stdout",
     "output_type": "stream",
     "text": [
      "lrs=SuggestedLRs(minimum=3.311311274956097e-07, steep=1.9054607491852948e-06, valley=0.0020892962347716093, slide=0.0030199517495930195)\n"
     ]
    },
    {
     "data": {
      "text/html": [
       "\n",
       "<style>\n",
       "    /* Turns off some styling */\n",
       "    progress {\n",
       "        /* gets rid of default border in Firefox and Opera. */\n",
       "        border: none;\n",
       "        /* Needs to be in here for Safari polyfill so background images work as expected. */\n",
       "        background-size: auto;\n",
       "    }\n",
       "    progress:not([value]), progress:not([value])::-webkit-progress-bar {\n",
       "        background: repeating-linear-gradient(45deg, #7e7e7e, #7e7e7e 10px, #5c5c5c 10px, #5c5c5c 20px);\n",
       "    }\n",
       "    .progress-bar-interrupted, .progress-bar-interrupted::-webkit-progress-bar {\n",
       "        background: #F44336;\n",
       "    }\n",
       "</style>\n"
      ],
      "text/plain": [
       "<IPython.core.display.HTML object>"
      ]
     },
     "metadata": {},
     "output_type": "display_data"
    },
    {
     "data": {
      "text/html": [
       "<table border=\"1\" class=\"dataframe\">\n",
       "  <thead>\n",
       "    <tr style=\"text-align: left;\">\n",
       "      <th>epoch</th>\n",
       "      <th>train_loss</th>\n",
       "      <th>valid_loss</th>\n",
       "      <th>accuracy_multi</th>\n",
       "      <th>F_score</th>\n",
       "      <th>time</th>\n",
       "    </tr>\n",
       "  </thead>\n",
       "  <tbody>\n",
       "    <tr>\n",
       "      <td>0</td>\n",
       "      <td>0.199999</td>\n",
       "      <td>0.052038</td>\n",
       "      <td>0.977094</td>\n",
       "      <td>0.938127</td>\n",
       "      <td>02:18</td>\n",
       "    </tr>\n",
       "  </tbody>\n",
       "</table>"
      ],
      "text/plain": [
       "<IPython.core.display.HTML object>"
      ]
     },
     "metadata": {},
     "output_type": "display_data"
    },
    {
     "name": "stdout",
     "output_type": "stream",
     "text": [
      "Better model found at epoch 0 with accuracy_multi value: 0.9770942330360413.\n"
     ]
    },
    {
     "data": {
      "text/html": [
       "\n",
       "<style>\n",
       "    /* Turns off some styling */\n",
       "    progress {\n",
       "        /* gets rid of default border in Firefox and Opera. */\n",
       "        border: none;\n",
       "        /* Needs to be in here for Safari polyfill so background images work as expected. */\n",
       "        background-size: auto;\n",
       "    }\n",
       "    progress:not([value]), progress:not([value])::-webkit-progress-bar {\n",
       "        background: repeating-linear-gradient(45deg, #7e7e7e, #7e7e7e 10px, #5c5c5c 10px, #5c5c5c 20px);\n",
       "    }\n",
       "    .progress-bar-interrupted, .progress-bar-interrupted::-webkit-progress-bar {\n",
       "        background: #F44336;\n",
       "    }\n",
       "</style>\n"
      ],
      "text/plain": [
       "<IPython.core.display.HTML object>"
      ]
     },
     "metadata": {},
     "output_type": "display_data"
    },
    {
     "data": {
      "text/html": [
       "<table border=\"1\" class=\"dataframe\">\n",
       "  <thead>\n",
       "    <tr style=\"text-align: left;\">\n",
       "      <th>epoch</th>\n",
       "      <th>train_loss</th>\n",
       "      <th>valid_loss</th>\n",
       "      <th>accuracy_multi</th>\n",
       "      <th>F_score</th>\n",
       "      <th>time</th>\n",
       "    </tr>\n",
       "  </thead>\n",
       "  <tbody>\n",
       "    <tr>\n",
       "      <td>0</td>\n",
       "      <td>0.187667</td>\n",
       "      <td>0.043779</td>\n",
       "      <td>0.982984</td>\n",
       "      <td>0.934983</td>\n",
       "      <td>06:08</td>\n",
       "    </tr>\n",
       "    <tr>\n",
       "      <td>1</td>\n",
       "      <td>0.168828</td>\n",
       "      <td>0.040531</td>\n",
       "      <td>0.983203</td>\n",
       "      <td>0.950143</td>\n",
       "      <td>06:09</td>\n",
       "    </tr>\n",
       "    <tr>\n",
       "      <td>2</td>\n",
       "      <td>0.173600</td>\n",
       "      <td>0.041492</td>\n",
       "      <td>0.982403</td>\n",
       "      <td>0.958544</td>\n",
       "      <td>06:07</td>\n",
       "    </tr>\n",
       "  </tbody>\n",
       "</table>"
      ],
      "text/plain": [
       "<IPython.core.display.HTML object>"
      ]
     },
     "metadata": {},
     "output_type": "display_data"
    },
    {
     "name": "stdout",
     "output_type": "stream",
     "text": [
      "Better model found at epoch 0 with accuracy_multi value: 0.9829843044281006.\n",
      "Better model found at epoch 1 with accuracy_multi value: 0.9832028746604919.\n",
      "No improvement since epoch 1: early stopping\n"
     ]
    },
    {
     "data": {
      "text/html": [
       "\n",
       "<style>\n",
       "    /* Turns off some styling */\n",
       "    progress {\n",
       "        /* gets rid of default border in Firefox and Opera. */\n",
       "        border: none;\n",
       "        /* Needs to be in here for Safari polyfill so background images work as expected. */\n",
       "        background-size: auto;\n",
       "    }\n",
       "    progress:not([value]), progress:not([value])::-webkit-progress-bar {\n",
       "        background: repeating-linear-gradient(45deg, #7e7e7e, #7e7e7e 10px, #5c5c5c 10px, #5c5c5c 20px);\n",
       "    }\n",
       "    .progress-bar-interrupted, .progress-bar-interrupted::-webkit-progress-bar {\n",
       "        background: #F44336;\n",
       "    }\n",
       "</style>\n"
      ],
      "text/plain": [
       "<IPython.core.display.HTML object>"
      ]
     },
     "metadata": {},
     "output_type": "display_data"
    },
    {
     "data": {
      "text/html": [],
      "text/plain": [
       "<IPython.core.display.HTML object>"
      ]
     },
     "metadata": {},
     "output_type": "display_data"
    },
    {
     "data": {
      "text/html": [
       "\n",
       "<style>\n",
       "    /* Turns off some styling */\n",
       "    progress {\n",
       "        /* gets rid of default border in Firefox and Opera. */\n",
       "        border: none;\n",
       "        /* Needs to be in here for Safari polyfill so background images work as expected. */\n",
       "        background-size: auto;\n",
       "    }\n",
       "    progress:not([value]), progress:not([value])::-webkit-progress-bar {\n",
       "        background: repeating-linear-gradient(45deg, #7e7e7e, #7e7e7e 10px, #5c5c5c 10px, #5c5c5c 20px);\n",
       "    }\n",
       "    .progress-bar-interrupted, .progress-bar-interrupted::-webkit-progress-bar {\n",
       "        background: #F44336;\n",
       "    }\n",
       "</style>\n"
      ],
      "text/plain": [
       "<IPython.core.display.HTML object>"
      ]
     },
     "metadata": {},
     "output_type": "display_data"
    },
    {
     "data": {
      "text/html": [
       "<table border=\"1\" class=\"dataframe\">\n",
       "  <thead>\n",
       "    <tr style=\"text-align: left;\">\n",
       "      <th>epoch</th>\n",
       "      <th>train_loss</th>\n",
       "      <th>valid_loss</th>\n",
       "      <th>accuracy_multi</th>\n",
       "      <th>F_score</th>\n",
       "      <th>time</th>\n",
       "    </tr>\n",
       "  </thead>\n",
       "  <tbody>\n",
       "    <tr>\n",
       "      <td>0</td>\n",
       "      <td>0.749024</td>\n",
       "      <td>0.362973</td>\n",
       "      <td>0.512804</td>\n",
       "      <td>0.823005</td>\n",
       "      <td>00:49</td>\n",
       "    </tr>\n",
       "    <tr>\n",
       "      <td>1</td>\n",
       "      <td>0.459727</td>\n",
       "      <td>0.127862</td>\n",
       "      <td>0.911392</td>\n",
       "      <td>0.939230</td>\n",
       "      <td>00:49</td>\n",
       "    </tr>\n",
       "    <tr>\n",
       "      <td>2</td>\n",
       "      <td>0.268197</td>\n",
       "      <td>0.059542</td>\n",
       "      <td>0.978466</td>\n",
       "      <td>0.923698</td>\n",
       "      <td>00:49</td>\n",
       "    </tr>\n",
       "    <tr>\n",
       "      <td>3</td>\n",
       "      <td>0.210407</td>\n",
       "      <td>0.054505</td>\n",
       "      <td>0.979194</td>\n",
       "      <td>0.927755</td>\n",
       "      <td>00:49</td>\n",
       "    </tr>\n",
       "    <tr>\n",
       "      <td>4</td>\n",
       "      <td>0.198752</td>\n",
       "      <td>0.046700</td>\n",
       "      <td>0.982686</td>\n",
       "      <td>0.942269</td>\n",
       "      <td>00:49</td>\n",
       "    </tr>\n",
       "    <tr>\n",
       "      <td>5</td>\n",
       "      <td>0.187547</td>\n",
       "      <td>0.045462</td>\n",
       "      <td>0.980794</td>\n",
       "      <td>0.947401</td>\n",
       "      <td>00:49</td>\n",
       "    </tr>\n",
       "    <tr>\n",
       "      <td>6</td>\n",
       "      <td>0.175918</td>\n",
       "      <td>0.045117</td>\n",
       "      <td>0.981885</td>\n",
       "      <td>0.941614</td>\n",
       "      <td>00:49</td>\n",
       "    </tr>\n",
       "    <tr>\n",
       "      <td>7</td>\n",
       "      <td>0.171502</td>\n",
       "      <td>0.044164</td>\n",
       "      <td>0.981595</td>\n",
       "      <td>0.945109</td>\n",
       "      <td>00:49</td>\n",
       "    </tr>\n",
       "    <tr>\n",
       "      <td>8</td>\n",
       "      <td>0.175151</td>\n",
       "      <td>0.043920</td>\n",
       "      <td>0.982322</td>\n",
       "      <td>0.946418</td>\n",
       "      <td>00:49</td>\n",
       "    </tr>\n",
       "    <tr>\n",
       "      <td>9</td>\n",
       "      <td>0.173692</td>\n",
       "      <td>0.043385</td>\n",
       "      <td>0.982395</td>\n",
       "      <td>0.947838</td>\n",
       "      <td>00:49</td>\n",
       "    </tr>\n",
       "  </tbody>\n",
       "</table>"
      ],
      "text/plain": [
       "<IPython.core.display.HTML object>"
      ]
     },
     "metadata": {},
     "output_type": "display_data"
    },
    {
     "data": {
      "text/html": [
       "\n",
       "<style>\n",
       "    /* Turns off some styling */\n",
       "    progress {\n",
       "        /* gets rid of default border in Firefox and Opera. */\n",
       "        border: none;\n",
       "        /* Needs to be in here for Safari polyfill so background images work as expected. */\n",
       "        background-size: auto;\n",
       "    }\n",
       "    progress:not([value]), progress:not([value])::-webkit-progress-bar {\n",
       "        background: repeating-linear-gradient(45deg, #7e7e7e, #7e7e7e 10px, #5c5c5c 10px, #5c5c5c 20px);\n",
       "    }\n",
       "    .progress-bar-interrupted, .progress-bar-interrupted::-webkit-progress-bar {\n",
       "        background: #F44336;\n",
       "    }\n",
       "</style>\n"
      ],
      "text/plain": [
       "<IPython.core.display.HTML object>"
      ]
     },
     "metadata": {},
     "output_type": "display_data"
    },
    {
     "data": {
      "text/html": [],
      "text/plain": [
       "<IPython.core.display.HTML object>"
      ]
     },
     "metadata": {},
     "output_type": "display_data"
    },
    {
     "name": "stdout",
     "output_type": "stream",
     "text": [
      "lrs=SuggestedLRs(minimum=7.585775847473997e-08, steep=9.12010818865383e-07, valley=0.0004786300996784121, slide=0.0020892962347716093)\n"
     ]
    },
    {
     "data": {
      "text/html": [
       "\n",
       "<style>\n",
       "    /* Turns off some styling */\n",
       "    progress {\n",
       "        /* gets rid of default border in Firefox and Opera. */\n",
       "        border: none;\n",
       "        /* Needs to be in here for Safari polyfill so background images work as expected. */\n",
       "        background-size: auto;\n",
       "    }\n",
       "    progress:not([value]), progress:not([value])::-webkit-progress-bar {\n",
       "        background: repeating-linear-gradient(45deg, #7e7e7e, #7e7e7e 10px, #5c5c5c 10px, #5c5c5c 20px);\n",
       "    }\n",
       "    .progress-bar-interrupted, .progress-bar-interrupted::-webkit-progress-bar {\n",
       "        background: #F44336;\n",
       "    }\n",
       "</style>\n"
      ],
      "text/plain": [
       "<IPython.core.display.HTML object>"
      ]
     },
     "metadata": {},
     "output_type": "display_data"
    },
    {
     "data": {
      "text/html": [
       "<table border=\"1\" class=\"dataframe\">\n",
       "  <thead>\n",
       "    <tr style=\"text-align: left;\">\n",
       "      <th>epoch</th>\n",
       "      <th>train_loss</th>\n",
       "      <th>valid_loss</th>\n",
       "      <th>accuracy_multi</th>\n",
       "      <th>F_score</th>\n",
       "      <th>time</th>\n",
       "    </tr>\n",
       "  </thead>\n",
       "  <tbody>\n",
       "    <tr>\n",
       "      <td>0</td>\n",
       "      <td>0.179669</td>\n",
       "      <td>0.053725</td>\n",
       "      <td>0.979631</td>\n",
       "      <td>0.929821</td>\n",
       "      <td>02:19</td>\n",
       "    </tr>\n",
       "  </tbody>\n",
       "</table>"
      ],
      "text/plain": [
       "<IPython.core.display.HTML object>"
      ]
     },
     "metadata": {},
     "output_type": "display_data"
    },
    {
     "name": "stdout",
     "output_type": "stream",
     "text": [
      "Better model found at epoch 0 with accuracy_multi value: 0.9796305894851685.\n"
     ]
    },
    {
     "data": {
      "text/html": [
       "\n",
       "<style>\n",
       "    /* Turns off some styling */\n",
       "    progress {\n",
       "        /* gets rid of default border in Firefox and Opera. */\n",
       "        border: none;\n",
       "        /* Needs to be in here for Safari polyfill so background images work as expected. */\n",
       "        background-size: auto;\n",
       "    }\n",
       "    progress:not([value]), progress:not([value])::-webkit-progress-bar {\n",
       "        background: repeating-linear-gradient(45deg, #7e7e7e, #7e7e7e 10px, #5c5c5c 10px, #5c5c5c 20px);\n",
       "    }\n",
       "    .progress-bar-interrupted, .progress-bar-interrupted::-webkit-progress-bar {\n",
       "        background: #F44336;\n",
       "    }\n",
       "</style>\n"
      ],
      "text/plain": [
       "<IPython.core.display.HTML object>"
      ]
     },
     "metadata": {},
     "output_type": "display_data"
    },
    {
     "data": {
      "text/html": [
       "<table border=\"1\" class=\"dataframe\">\n",
       "  <thead>\n",
       "    <tr style=\"text-align: left;\">\n",
       "      <th>epoch</th>\n",
       "      <th>train_loss</th>\n",
       "      <th>valid_loss</th>\n",
       "      <th>accuracy_multi</th>\n",
       "      <th>F_score</th>\n",
       "      <th>time</th>\n",
       "    </tr>\n",
       "  </thead>\n",
       "  <tbody>\n",
       "    <tr>\n",
       "      <td>0</td>\n",
       "      <td>0.188371</td>\n",
       "      <td>0.048567</td>\n",
       "      <td>0.979267</td>\n",
       "      <td>0.940504</td>\n",
       "      <td>06:07</td>\n",
       "    </tr>\n",
       "    <tr>\n",
       "      <td>1</td>\n",
       "      <td>0.184169</td>\n",
       "      <td>0.047059</td>\n",
       "      <td>0.981595</td>\n",
       "      <td>0.945106</td>\n",
       "      <td>06:07</td>\n",
       "    </tr>\n",
       "    <tr>\n",
       "      <td>2</td>\n",
       "      <td>0.173576</td>\n",
       "      <td>0.045270</td>\n",
       "      <td>0.982322</td>\n",
       "      <td>0.949471</td>\n",
       "      <td>06:07</td>\n",
       "    </tr>\n",
       "    <tr>\n",
       "      <td>3</td>\n",
       "      <td>0.166856</td>\n",
       "      <td>0.042848</td>\n",
       "      <td>0.983122</td>\n",
       "      <td>0.951099</td>\n",
       "      <td>06:07</td>\n",
       "    </tr>\n",
       "    <tr>\n",
       "      <td>4</td>\n",
       "      <td>0.171654</td>\n",
       "      <td>0.043523</td>\n",
       "      <td>0.984359</td>\n",
       "      <td>0.947614</td>\n",
       "      <td>06:08</td>\n",
       "    </tr>\n",
       "  </tbody>\n",
       "</table>"
      ],
      "text/plain": [
       "<IPython.core.display.HTML object>"
      ]
     },
     "metadata": {},
     "output_type": "display_data"
    },
    {
     "name": "stdout",
     "output_type": "stream",
     "text": [
      "Better model found at epoch 0 with accuracy_multi value: 0.9792668223381042.\n",
      "Better model found at epoch 1 with accuracy_multi value: 0.9815947413444519.\n",
      "Better model found at epoch 2 with accuracy_multi value: 0.9823222160339355.\n",
      "Better model found at epoch 3 with accuracy_multi value: 0.9831223487854004.\n",
      "Better model found at epoch 4 with accuracy_multi value: 0.9843591451644897.\n",
      "No improvement since epoch 3: early stopping\n"
     ]
    },
    {
     "data": {
      "text/html": [
       "\n",
       "<style>\n",
       "    /* Turns off some styling */\n",
       "    progress {\n",
       "        /* gets rid of default border in Firefox and Opera. */\n",
       "        border: none;\n",
       "        /* Needs to be in here for Safari polyfill so background images work as expected. */\n",
       "        background-size: auto;\n",
       "    }\n",
       "    progress:not([value]), progress:not([value])::-webkit-progress-bar {\n",
       "        background: repeating-linear-gradient(45deg, #7e7e7e, #7e7e7e 10px, #5c5c5c 10px, #5c5c5c 20px);\n",
       "    }\n",
       "    .progress-bar-interrupted, .progress-bar-interrupted::-webkit-progress-bar {\n",
       "        background: #F44336;\n",
       "    }\n",
       "</style>\n"
      ],
      "text/plain": [
       "<IPython.core.display.HTML object>"
      ]
     },
     "metadata": {},
     "output_type": "display_data"
    },
    {
     "data": {
      "text/html": [],
      "text/plain": [
       "<IPython.core.display.HTML object>"
      ]
     },
     "metadata": {},
     "output_type": "display_data"
    },
    {
     "data": {
      "text/html": [
       "\n",
       "<style>\n",
       "    /* Turns off some styling */\n",
       "    progress {\n",
       "        /* gets rid of default border in Firefox and Opera. */\n",
       "        border: none;\n",
       "        /* Needs to be in here for Safari polyfill so background images work as expected. */\n",
       "        background-size: auto;\n",
       "    }\n",
       "    progress:not([value]), progress:not([value])::-webkit-progress-bar {\n",
       "        background: repeating-linear-gradient(45deg, #7e7e7e, #7e7e7e 10px, #5c5c5c 10px, #5c5c5c 20px);\n",
       "    }\n",
       "    .progress-bar-interrupted, .progress-bar-interrupted::-webkit-progress-bar {\n",
       "        background: #F44336;\n",
       "    }\n",
       "</style>\n"
      ],
      "text/plain": [
       "<IPython.core.display.HTML object>"
      ]
     },
     "metadata": {},
     "output_type": "display_data"
    },
    {
     "data": {
      "text/html": [
       "<table border=\"1\" class=\"dataframe\">\n",
       "  <thead>\n",
       "    <tr style=\"text-align: left;\">\n",
       "      <th>epoch</th>\n",
       "      <th>train_loss</th>\n",
       "      <th>valid_loss</th>\n",
       "      <th>accuracy_multi</th>\n",
       "      <th>F_score</th>\n",
       "      <th>time</th>\n",
       "    </tr>\n",
       "  </thead>\n",
       "  <tbody>\n",
       "    <tr>\n",
       "      <td>0</td>\n",
       "      <td>0.757520</td>\n",
       "      <td>0.312974</td>\n",
       "      <td>0.583115</td>\n",
       "      <td>0.850809</td>\n",
       "      <td>00:48</td>\n",
       "    </tr>\n",
       "    <tr>\n",
       "      <td>1</td>\n",
       "      <td>0.467646</td>\n",
       "      <td>0.124635</td>\n",
       "      <td>0.916667</td>\n",
       "      <td>0.933606</td>\n",
       "      <td>00:50</td>\n",
       "    </tr>\n",
       "    <tr>\n",
       "      <td>2</td>\n",
       "      <td>0.276081</td>\n",
       "      <td>0.057282</td>\n",
       "      <td>0.976222</td>\n",
       "      <td>0.936824</td>\n",
       "      <td>00:49</td>\n",
       "    </tr>\n",
       "    <tr>\n",
       "      <td>3</td>\n",
       "      <td>0.222573</td>\n",
       "      <td>0.049406</td>\n",
       "      <td>0.977894</td>\n",
       "      <td>0.938693</td>\n",
       "      <td>00:49</td>\n",
       "    </tr>\n",
       "    <tr>\n",
       "      <td>4</td>\n",
       "      <td>0.204121</td>\n",
       "      <td>0.049408</td>\n",
       "      <td>0.981748</td>\n",
       "      <td>0.939351</td>\n",
       "      <td>00:49</td>\n",
       "    </tr>\n",
       "  </tbody>\n",
       "</table>"
      ],
      "text/plain": [
       "<IPython.core.display.HTML object>"
      ]
     },
     "metadata": {},
     "output_type": "display_data"
    },
    {
     "name": "stdout",
     "output_type": "stream",
     "text": [
      "No improvement since epoch 3: early stopping\n"
     ]
    },
    {
     "data": {
      "text/html": [
       "\n",
       "<style>\n",
       "    /* Turns off some styling */\n",
       "    progress {\n",
       "        /* gets rid of default border in Firefox and Opera. */\n",
       "        border: none;\n",
       "        /* Needs to be in here for Safari polyfill so background images work as expected. */\n",
       "        background-size: auto;\n",
       "    }\n",
       "    progress:not([value]), progress:not([value])::-webkit-progress-bar {\n",
       "        background: repeating-linear-gradient(45deg, #7e7e7e, #7e7e7e 10px, #5c5c5c 10px, #5c5c5c 20px);\n",
       "    }\n",
       "    .progress-bar-interrupted, .progress-bar-interrupted::-webkit-progress-bar {\n",
       "        background: #F44336;\n",
       "    }\n",
       "</style>\n"
      ],
      "text/plain": [
       "<IPython.core.display.HTML object>"
      ]
     },
     "metadata": {},
     "output_type": "display_data"
    },
    {
     "data": {
      "text/html": [],
      "text/plain": [
       "<IPython.core.display.HTML object>"
      ]
     },
     "metadata": {},
     "output_type": "display_data"
    },
    {
     "name": "stdout",
     "output_type": "stream",
     "text": [
      "lrs=SuggestedLRs(minimum=6.309573450380412e-08, steep=2.2908675418875646e-06, valley=0.0010000000474974513, slide=0.001737800776027143)\n"
     ]
    },
    {
     "data": {
      "text/html": [
       "\n",
       "<style>\n",
       "    /* Turns off some styling */\n",
       "    progress {\n",
       "        /* gets rid of default border in Firefox and Opera. */\n",
       "        border: none;\n",
       "        /* Needs to be in here for Safari polyfill so background images work as expected. */\n",
       "        background-size: auto;\n",
       "    }\n",
       "    progress:not([value]), progress:not([value])::-webkit-progress-bar {\n",
       "        background: repeating-linear-gradient(45deg, #7e7e7e, #7e7e7e 10px, #5c5c5c 10px, #5c5c5c 20px);\n",
       "    }\n",
       "    .progress-bar-interrupted, .progress-bar-interrupted::-webkit-progress-bar {\n",
       "        background: #F44336;\n",
       "    }\n",
       "</style>\n"
      ],
      "text/plain": [
       "<IPython.core.display.HTML object>"
      ]
     },
     "metadata": {},
     "output_type": "display_data"
    },
    {
     "data": {
      "text/html": [
       "<table border=\"1\" class=\"dataframe\">\n",
       "  <thead>\n",
       "    <tr style=\"text-align: left;\">\n",
       "      <th>epoch</th>\n",
       "      <th>train_loss</th>\n",
       "      <th>valid_loss</th>\n",
       "      <th>accuracy_multi</th>\n",
       "      <th>F_score</th>\n",
       "      <th>time</th>\n",
       "    </tr>\n",
       "  </thead>\n",
       "  <tbody>\n",
       "    <tr>\n",
       "      <td>0</td>\n",
       "      <td>0.203241</td>\n",
       "      <td>0.054311</td>\n",
       "      <td>0.978330</td>\n",
       "      <td>0.938666</td>\n",
       "      <td>02:18</td>\n",
       "    </tr>\n",
       "  </tbody>\n",
       "</table>"
      ],
      "text/plain": [
       "<IPython.core.display.HTML object>"
      ]
     },
     "metadata": {},
     "output_type": "display_data"
    },
    {
     "name": "stdout",
     "output_type": "stream",
     "text": [
      "Better model found at epoch 0 with accuracy_multi value: 0.9783303737640381.\n"
     ]
    },
    {
     "data": {
      "text/html": [
       "\n",
       "<style>\n",
       "    /* Turns off some styling */\n",
       "    progress {\n",
       "        /* gets rid of default border in Firefox and Opera. */\n",
       "        border: none;\n",
       "        /* Needs to be in here for Safari polyfill so background images work as expected. */\n",
       "        background-size: auto;\n",
       "    }\n",
       "    progress:not([value]), progress:not([value])::-webkit-progress-bar {\n",
       "        background: repeating-linear-gradient(45deg, #7e7e7e, #7e7e7e 10px, #5c5c5c 10px, #5c5c5c 20px);\n",
       "    }\n",
       "    .progress-bar-interrupted, .progress-bar-interrupted::-webkit-progress-bar {\n",
       "        background: #F44336;\n",
       "    }\n",
       "</style>\n"
      ],
      "text/plain": [
       "<IPython.core.display.HTML object>"
      ]
     },
     "metadata": {},
     "output_type": "display_data"
    },
    {
     "data": {
      "text/html": [
       "<table border=\"1\" class=\"dataframe\">\n",
       "  <thead>\n",
       "    <tr style=\"text-align: left;\">\n",
       "      <th>epoch</th>\n",
       "      <th>train_loss</th>\n",
       "      <th>valid_loss</th>\n",
       "      <th>accuracy_multi</th>\n",
       "      <th>F_score</th>\n",
       "      <th>time</th>\n",
       "    </tr>\n",
       "  </thead>\n",
       "  <tbody>\n",
       "    <tr>\n",
       "      <td>0</td>\n",
       "      <td>0.193026</td>\n",
       "      <td>0.046385</td>\n",
       "      <td>0.984366</td>\n",
       "      <td>0.944583</td>\n",
       "      <td>06:06</td>\n",
       "    </tr>\n",
       "    <tr>\n",
       "      <td>1</td>\n",
       "      <td>0.178738</td>\n",
       "      <td>0.041551</td>\n",
       "      <td>0.985602</td>\n",
       "      <td>0.946335</td>\n",
       "      <td>06:06</td>\n",
       "    </tr>\n",
       "    <tr>\n",
       "      <td>2</td>\n",
       "      <td>0.179688</td>\n",
       "      <td>0.040350</td>\n",
       "      <td>0.986257</td>\n",
       "      <td>0.955712</td>\n",
       "      <td>06:06</td>\n",
       "    </tr>\n",
       "    <tr>\n",
       "      <td>3</td>\n",
       "      <td>0.168384</td>\n",
       "      <td>0.040447</td>\n",
       "      <td>0.984802</td>\n",
       "      <td>0.957893</td>\n",
       "      <td>06:06</td>\n",
       "    </tr>\n",
       "  </tbody>\n",
       "</table>"
      ],
      "text/plain": [
       "<IPython.core.display.HTML object>"
      ]
     },
     "metadata": {},
     "output_type": "display_data"
    },
    {
     "name": "stdout",
     "output_type": "stream",
     "text": [
      "Better model found at epoch 0 with accuracy_multi value: 0.9843660593032837.\n",
      "Better model found at epoch 1 with accuracy_multi value: 0.9856023192405701.\n",
      "Better model found at epoch 2 with accuracy_multi value: 0.9862567782402039.\n",
      "No improvement since epoch 2: early stopping\n"
     ]
    },
    {
     "data": {
      "text/html": [
       "\n",
       "<style>\n",
       "    /* Turns off some styling */\n",
       "    progress {\n",
       "        /* gets rid of default border in Firefox and Opera. */\n",
       "        border: none;\n",
       "        /* Needs to be in here for Safari polyfill so background images work as expected. */\n",
       "        background-size: auto;\n",
       "    }\n",
       "    progress:not([value]), progress:not([value])::-webkit-progress-bar {\n",
       "        background: repeating-linear-gradient(45deg, #7e7e7e, #7e7e7e 10px, #5c5c5c 10px, #5c5c5c 20px);\n",
       "    }\n",
       "    .progress-bar-interrupted, .progress-bar-interrupted::-webkit-progress-bar {\n",
       "        background: #F44336;\n",
       "    }\n",
       "</style>\n"
      ],
      "text/plain": [
       "<IPython.core.display.HTML object>"
      ]
     },
     "metadata": {},
     "output_type": "display_data"
    },
    {
     "data": {
      "text/html": [],
      "text/plain": [
       "<IPython.core.display.HTML object>"
      ]
     },
     "metadata": {},
     "output_type": "display_data"
    },
    {
     "data": {
      "image/png": "[encoded data removed]",
      "text/plain": [
       "<Figure size 640x480 with 1 Axes>"
      ]
     },
     "metadata": {},
     "output_type": "display_data"
    },
    {
     "data": {
      "image/png": "[encoded data removed]",
      "text/plain": [
       "<Figure size 640x480 with 1 Axes>"
      ]
     },
     "metadata": {},
     "output_type": "display_data"
    },
    {
     "data": {
      "image/png": "[encoded data removed]",
      "text/plain": [
       "<Figure size 640x480 with 1 Axes>"
      ]
     },
     "metadata": {},
     "output_type": "display_data"
    }
   ],
   "source": [
    "all_preds = []\n",
    "\n",
    "for i in range(3):\n",
    "    dls = get_data(i, 256, 32)\n",
    "    learn = vision_learner(\n",
    "        dls,\n",
    "        \"convnext_nano\",\n",
    "        metrics=[\n",
    "            partial(accuracy_multi, thresh=0.2),\n",
    "            partial(F_score, threshold=0.2),\n",
    "        ],\n",
    "        cbs=mixup,\n",
    "    )  # .to_fp16()\n",
    "\n",
    "    learn.fit_one_cycle(10, cbs=EarlyStoppingCallback(monitor=\"valid_loss\"))\n",
    "    learn.dls = get_data(i, 512, 16)\n",
    "\n",
    "    lrs = learn.lr_find(suggest_funcs=(minimum, steep, valley, slide))\n",
    "    print(f\"{lrs=}\")\n",
    "\n",
    "    learn.fine_tune(10, lrs.valley, cbs=[\n",
    "        EarlyStoppingCallback(monitor=\"valid_loss\"),\n",
    "        SaveModelCallback(\n",
    "            monitor=\"accuracy_multi\",\n",
    "            min_delta=0.0001,\n",
    "            fname=\"best-cv_model\",\n",
    "        ),\n",
    "    ])\n",
    "    m = f\"{i}-best.pkl\"\n",
    "    learn.export(m)\n",
    "    tst_dl = learn.dls.test_dl(TEST_DF)\n",
    "    preds, _ = learn.get_preds(dl=tst_dl)\n",
    "    all_preds.append(preds)\n",
    "\n",
    "    # free up memory\n",
    "    del learn\n",
    "    torch.cuda.empty_cache()\n",
    "    gc.collect()"
   ]
  },
  {
   "attachments": {},
   "cell_type": "markdown",
   "id": "7bec66e9",
   "metadata": {},
   "source": [
    "Unlike the article, we are not trying to classify multiple objects in a single image, so I am not using the threshold variable. Instead I'm taking the class with the highest prediction."
   ]
  },
  {
   "cell_type": "code",
   "execution_count": 17,
   "id": "914847ec",
   "metadata": {},
   "outputs": [],
   "source": [
    "preds = np.mean(np.stack(all_preds), axis=0)\n",
    "\n",
    "k = dls.vocab\n",
    "preds[0]\n",
    "labelled_preds = [\n",
    "    \" \".join([k[i] for i, p in enumerate(pred) if p == max(pred)]) for pred in preds\n",
    "]\n",
    "TEST_DF[\"label\"] = labelled_preds\n",
    "TEST_DF.drop(['image'], axis=1, inplace=True)\n",
    "TEST_DF.to_csv(\"submission.csv\", index=False)"
   ]
  },
  {
   "cell_type": "code",
   "execution_count": 18,
   "id": "10c2bbad",
   "metadata": {},
   "outputs": [
    {
     "name": "stdout",
     "output_type": "stream",
     "text": [
      "Id,label\n",
      "678,spoon\n",
      "3962,knife\n",
      "9271,fork\n",
      "5133,plate\n",
      "8842,fork\n",
      "8256,fork\n",
      "4622,spoon\n",
      "2775,fork\n",
      "5900,knife\n"
     ]
    }
   ],
   "source": [
    "!head -n 10 submission.csv"
   ]
  },
  {
   "cell_type": "code",
   "execution_count": null,
   "id": "623ec9e7",
   "metadata": {},
   "outputs": [],
   "source": []
  }
 ],
 "metadata": {
  "kernelspec": {
   "display_name": "py39",
   "language": "python",
   "name": "python3"
  },
  "language_info": {
   "codemirror_mode": {
    "name": "ipython",
    "version": 3
   },
   "file_extension": ".py",
   "mimetype": "text/x-python",
   "name": "python",
   "nbconvert_exporter": "python",
   "pygments_lexer": "ipython3",
   "version": "3.9.15 | packaged by conda-forge | (main, Nov 22 2022, 15:55:03) \n[GCC 10.4.0]"
  },
  "vscode": {
   "interpreter": {
    "hash": "e02e9884b3f6679bcf8253a6deab40bf4cc99ad8d461d7e4c2e9bca419f3f347"
   }
  }
 },
 "nbformat": 4,
 "nbformat_minor": 5
}
